{
 "cells": [
  {
   "cell_type": "code",
   "execution_count": 2,
   "id": "47b6e6a0",
   "metadata": {},
   "outputs": [],
   "source": [
    "import pandas as pd\n",
    "import numpy as np\n",
    "import matplotlib.pyplot as plt\n",
    "import matplotlib.dates as mdates\n",
    "import seaborn as sns\n"
   ]
  },
  {
   "cell_type": "code",
   "execution_count": 3,
   "id": "7ea00549",
   "metadata": {},
   "outputs": [
    {
     "ename": "FileNotFoundError",
     "evalue": "[Errno 2] No such file or directory: 'landscape_2018_AlabamatoMontana.csv'",
     "output_type": "error",
     "traceback": [
      "\u001b[1;31m---------------------------------------------------------------------------\u001b[0m",
      "\u001b[1;31mFileNotFoundError\u001b[0m                         Traceback (most recent call last)",
      "\u001b[1;32m~\\AppData\\Local\\Temp/ipykernel_20144/508402229.py\u001b[0m in \u001b[0;36m<module>\u001b[1;34m\u001b[0m\n\u001b[1;32m----> 1\u001b[1;33m \u001b[0mpremium\u001b[0m \u001b[1;33m=\u001b[0m \u001b[0mpd\u001b[0m\u001b[1;33m.\u001b[0m\u001b[0mread_csv\u001b[0m\u001b[1;33m(\u001b[0m\u001b[1;34m'landscape_2018_AlabamatoMontana.csv'\u001b[0m\u001b[1;33m,\u001b[0m\u001b[0mskiprows\u001b[0m\u001b[1;33m=\u001b[0m\u001b[1;36m3\u001b[0m\u001b[1;33m)\u001b[0m\u001b[1;33m\u001b[0m\u001b[1;33m\u001b[0m\u001b[0m\n\u001b[0m\u001b[0;32m      2\u001b[0m \u001b[0mpremium\u001b[0m\u001b[1;33m.\u001b[0m\u001b[0mhead\u001b[0m\u001b[1;33m(\u001b[0m\u001b[1;33m)\u001b[0m\u001b[1;33m\u001b[0m\u001b[1;33m\u001b[0m\u001b[0m\n",
      "\u001b[1;32m~\\anaconda3\\lib\\site-packages\\pandas\\util\\_decorators.py\u001b[0m in \u001b[0;36mwrapper\u001b[1;34m(*args, **kwargs)\u001b[0m\n\u001b[0;32m    309\u001b[0m                     \u001b[0mstacklevel\u001b[0m\u001b[1;33m=\u001b[0m\u001b[0mstacklevel\u001b[0m\u001b[1;33m,\u001b[0m\u001b[1;33m\u001b[0m\u001b[1;33m\u001b[0m\u001b[0m\n\u001b[0;32m    310\u001b[0m                 )\n\u001b[1;32m--> 311\u001b[1;33m             \u001b[1;32mreturn\u001b[0m \u001b[0mfunc\u001b[0m\u001b[1;33m(\u001b[0m\u001b[1;33m*\u001b[0m\u001b[0margs\u001b[0m\u001b[1;33m,\u001b[0m \u001b[1;33m**\u001b[0m\u001b[0mkwargs\u001b[0m\u001b[1;33m)\u001b[0m\u001b[1;33m\u001b[0m\u001b[1;33m\u001b[0m\u001b[0m\n\u001b[0m\u001b[0;32m    312\u001b[0m \u001b[1;33m\u001b[0m\u001b[0m\n\u001b[0;32m    313\u001b[0m         \u001b[1;32mreturn\u001b[0m \u001b[0mwrapper\u001b[0m\u001b[1;33m\u001b[0m\u001b[1;33m\u001b[0m\u001b[0m\n",
      "\u001b[1;32m~\\anaconda3\\lib\\site-packages\\pandas\\io\\parsers\\readers.py\u001b[0m in \u001b[0;36mread_csv\u001b[1;34m(filepath_or_buffer, sep, delimiter, header, names, index_col, usecols, squeeze, prefix, mangle_dupe_cols, dtype, engine, converters, true_values, false_values, skipinitialspace, skiprows, skipfooter, nrows, na_values, keep_default_na, na_filter, verbose, skip_blank_lines, parse_dates, infer_datetime_format, keep_date_col, date_parser, dayfirst, cache_dates, iterator, chunksize, compression, thousands, decimal, lineterminator, quotechar, quoting, doublequote, escapechar, comment, encoding, encoding_errors, dialect, error_bad_lines, warn_bad_lines, on_bad_lines, delim_whitespace, low_memory, memory_map, float_precision, storage_options)\u001b[0m\n\u001b[0;32m    584\u001b[0m     \u001b[0mkwds\u001b[0m\u001b[1;33m.\u001b[0m\u001b[0mupdate\u001b[0m\u001b[1;33m(\u001b[0m\u001b[0mkwds_defaults\u001b[0m\u001b[1;33m)\u001b[0m\u001b[1;33m\u001b[0m\u001b[1;33m\u001b[0m\u001b[0m\n\u001b[0;32m    585\u001b[0m \u001b[1;33m\u001b[0m\u001b[0m\n\u001b[1;32m--> 586\u001b[1;33m     \u001b[1;32mreturn\u001b[0m \u001b[0m_read\u001b[0m\u001b[1;33m(\u001b[0m\u001b[0mfilepath_or_buffer\u001b[0m\u001b[1;33m,\u001b[0m \u001b[0mkwds\u001b[0m\u001b[1;33m)\u001b[0m\u001b[1;33m\u001b[0m\u001b[1;33m\u001b[0m\u001b[0m\n\u001b[0m\u001b[0;32m    587\u001b[0m \u001b[1;33m\u001b[0m\u001b[0m\n\u001b[0;32m    588\u001b[0m \u001b[1;33m\u001b[0m\u001b[0m\n",
      "\u001b[1;32m~\\anaconda3\\lib\\site-packages\\pandas\\io\\parsers\\readers.py\u001b[0m in \u001b[0;36m_read\u001b[1;34m(filepath_or_buffer, kwds)\u001b[0m\n\u001b[0;32m    480\u001b[0m \u001b[1;33m\u001b[0m\u001b[0m\n\u001b[0;32m    481\u001b[0m     \u001b[1;31m# Create the parser.\u001b[0m\u001b[1;33m\u001b[0m\u001b[1;33m\u001b[0m\u001b[0m\n\u001b[1;32m--> 482\u001b[1;33m     \u001b[0mparser\u001b[0m \u001b[1;33m=\u001b[0m \u001b[0mTextFileReader\u001b[0m\u001b[1;33m(\u001b[0m\u001b[0mfilepath_or_buffer\u001b[0m\u001b[1;33m,\u001b[0m \u001b[1;33m**\u001b[0m\u001b[0mkwds\u001b[0m\u001b[1;33m)\u001b[0m\u001b[1;33m\u001b[0m\u001b[1;33m\u001b[0m\u001b[0m\n\u001b[0m\u001b[0;32m    483\u001b[0m \u001b[1;33m\u001b[0m\u001b[0m\n\u001b[0;32m    484\u001b[0m     \u001b[1;32mif\u001b[0m \u001b[0mchunksize\u001b[0m \u001b[1;32mor\u001b[0m \u001b[0miterator\u001b[0m\u001b[1;33m:\u001b[0m\u001b[1;33m\u001b[0m\u001b[1;33m\u001b[0m\u001b[0m\n",
      "\u001b[1;32m~\\anaconda3\\lib\\site-packages\\pandas\\io\\parsers\\readers.py\u001b[0m in \u001b[0;36m__init__\u001b[1;34m(self, f, engine, **kwds)\u001b[0m\n\u001b[0;32m    809\u001b[0m             \u001b[0mself\u001b[0m\u001b[1;33m.\u001b[0m\u001b[0moptions\u001b[0m\u001b[1;33m[\u001b[0m\u001b[1;34m\"has_index_names\"\u001b[0m\u001b[1;33m]\u001b[0m \u001b[1;33m=\u001b[0m \u001b[0mkwds\u001b[0m\u001b[1;33m[\u001b[0m\u001b[1;34m\"has_index_names\"\u001b[0m\u001b[1;33m]\u001b[0m\u001b[1;33m\u001b[0m\u001b[1;33m\u001b[0m\u001b[0m\n\u001b[0;32m    810\u001b[0m \u001b[1;33m\u001b[0m\u001b[0m\n\u001b[1;32m--> 811\u001b[1;33m         \u001b[0mself\u001b[0m\u001b[1;33m.\u001b[0m\u001b[0m_engine\u001b[0m \u001b[1;33m=\u001b[0m \u001b[0mself\u001b[0m\u001b[1;33m.\u001b[0m\u001b[0m_make_engine\u001b[0m\u001b[1;33m(\u001b[0m\u001b[0mself\u001b[0m\u001b[1;33m.\u001b[0m\u001b[0mengine\u001b[0m\u001b[1;33m)\u001b[0m\u001b[1;33m\u001b[0m\u001b[1;33m\u001b[0m\u001b[0m\n\u001b[0m\u001b[0;32m    812\u001b[0m \u001b[1;33m\u001b[0m\u001b[0m\n\u001b[0;32m    813\u001b[0m     \u001b[1;32mdef\u001b[0m \u001b[0mclose\u001b[0m\u001b[1;33m(\u001b[0m\u001b[0mself\u001b[0m\u001b[1;33m)\u001b[0m\u001b[1;33m:\u001b[0m\u001b[1;33m\u001b[0m\u001b[1;33m\u001b[0m\u001b[0m\n",
      "\u001b[1;32m~\\anaconda3\\lib\\site-packages\\pandas\\io\\parsers\\readers.py\u001b[0m in \u001b[0;36m_make_engine\u001b[1;34m(self, engine)\u001b[0m\n\u001b[0;32m   1038\u001b[0m             )\n\u001b[0;32m   1039\u001b[0m         \u001b[1;31m# error: Too many arguments for \"ParserBase\"\u001b[0m\u001b[1;33m\u001b[0m\u001b[1;33m\u001b[0m\u001b[0m\n\u001b[1;32m-> 1040\u001b[1;33m         \u001b[1;32mreturn\u001b[0m \u001b[0mmapping\u001b[0m\u001b[1;33m[\u001b[0m\u001b[0mengine\u001b[0m\u001b[1;33m]\u001b[0m\u001b[1;33m(\u001b[0m\u001b[0mself\u001b[0m\u001b[1;33m.\u001b[0m\u001b[0mf\u001b[0m\u001b[1;33m,\u001b[0m \u001b[1;33m**\u001b[0m\u001b[0mself\u001b[0m\u001b[1;33m.\u001b[0m\u001b[0moptions\u001b[0m\u001b[1;33m)\u001b[0m  \u001b[1;31m# type: ignore[call-arg]\u001b[0m\u001b[1;33m\u001b[0m\u001b[1;33m\u001b[0m\u001b[0m\n\u001b[0m\u001b[0;32m   1041\u001b[0m \u001b[1;33m\u001b[0m\u001b[0m\n\u001b[0;32m   1042\u001b[0m     \u001b[1;32mdef\u001b[0m \u001b[0m_failover_to_python\u001b[0m\u001b[1;33m(\u001b[0m\u001b[0mself\u001b[0m\u001b[1;33m)\u001b[0m\u001b[1;33m:\u001b[0m\u001b[1;33m\u001b[0m\u001b[1;33m\u001b[0m\u001b[0m\n",
      "\u001b[1;32m~\\anaconda3\\lib\\site-packages\\pandas\\io\\parsers\\c_parser_wrapper.py\u001b[0m in \u001b[0;36m__init__\u001b[1;34m(self, src, **kwds)\u001b[0m\n\u001b[0;32m     49\u001b[0m \u001b[1;33m\u001b[0m\u001b[0m\n\u001b[0;32m     50\u001b[0m         \u001b[1;31m# open handles\u001b[0m\u001b[1;33m\u001b[0m\u001b[1;33m\u001b[0m\u001b[0m\n\u001b[1;32m---> 51\u001b[1;33m         \u001b[0mself\u001b[0m\u001b[1;33m.\u001b[0m\u001b[0m_open_handles\u001b[0m\u001b[1;33m(\u001b[0m\u001b[0msrc\u001b[0m\u001b[1;33m,\u001b[0m \u001b[0mkwds\u001b[0m\u001b[1;33m)\u001b[0m\u001b[1;33m\u001b[0m\u001b[1;33m\u001b[0m\u001b[0m\n\u001b[0m\u001b[0;32m     52\u001b[0m         \u001b[1;32massert\u001b[0m \u001b[0mself\u001b[0m\u001b[1;33m.\u001b[0m\u001b[0mhandles\u001b[0m \u001b[1;32mis\u001b[0m \u001b[1;32mnot\u001b[0m \u001b[1;32mNone\u001b[0m\u001b[1;33m\u001b[0m\u001b[1;33m\u001b[0m\u001b[0m\n\u001b[0;32m     53\u001b[0m \u001b[1;33m\u001b[0m\u001b[0m\n",
      "\u001b[1;32m~\\anaconda3\\lib\\site-packages\\pandas\\io\\parsers\\base_parser.py\u001b[0m in \u001b[0;36m_open_handles\u001b[1;34m(self, src, kwds)\u001b[0m\n\u001b[0;32m    220\u001b[0m         \u001b[0mLet\u001b[0m \u001b[0mthe\u001b[0m \u001b[0mreaders\u001b[0m \u001b[0mopen\u001b[0m \u001b[0mIOHandles\u001b[0m \u001b[0mafter\u001b[0m \u001b[0mthey\u001b[0m \u001b[0mare\u001b[0m \u001b[0mdone\u001b[0m \u001b[1;32mwith\u001b[0m \u001b[0mtheir\u001b[0m \u001b[0mpotential\u001b[0m \u001b[0mraises\u001b[0m\u001b[1;33m.\u001b[0m\u001b[1;33m\u001b[0m\u001b[1;33m\u001b[0m\u001b[0m\n\u001b[0;32m    221\u001b[0m         \"\"\"\n\u001b[1;32m--> 222\u001b[1;33m         self.handles = get_handle(\n\u001b[0m\u001b[0;32m    223\u001b[0m             \u001b[0msrc\u001b[0m\u001b[1;33m,\u001b[0m\u001b[1;33m\u001b[0m\u001b[1;33m\u001b[0m\u001b[0m\n\u001b[0;32m    224\u001b[0m             \u001b[1;34m\"r\"\u001b[0m\u001b[1;33m,\u001b[0m\u001b[1;33m\u001b[0m\u001b[1;33m\u001b[0m\u001b[0m\n",
      "\u001b[1;32m~\\anaconda3\\lib\\site-packages\\pandas\\io\\common.py\u001b[0m in \u001b[0;36mget_handle\u001b[1;34m(path_or_buf, mode, encoding, compression, memory_map, is_text, errors, storage_options)\u001b[0m\n\u001b[0;32m    700\u001b[0m         \u001b[1;32mif\u001b[0m \u001b[0mioargs\u001b[0m\u001b[1;33m.\u001b[0m\u001b[0mencoding\u001b[0m \u001b[1;32mand\u001b[0m \u001b[1;34m\"b\"\u001b[0m \u001b[1;32mnot\u001b[0m \u001b[1;32min\u001b[0m \u001b[0mioargs\u001b[0m\u001b[1;33m.\u001b[0m\u001b[0mmode\u001b[0m\u001b[1;33m:\u001b[0m\u001b[1;33m\u001b[0m\u001b[1;33m\u001b[0m\u001b[0m\n\u001b[0;32m    701\u001b[0m             \u001b[1;31m# Encoding\u001b[0m\u001b[1;33m\u001b[0m\u001b[1;33m\u001b[0m\u001b[0m\n\u001b[1;32m--> 702\u001b[1;33m             handle = open(\n\u001b[0m\u001b[0;32m    703\u001b[0m                 \u001b[0mhandle\u001b[0m\u001b[1;33m,\u001b[0m\u001b[1;33m\u001b[0m\u001b[1;33m\u001b[0m\u001b[0m\n\u001b[0;32m    704\u001b[0m                 \u001b[0mioargs\u001b[0m\u001b[1;33m.\u001b[0m\u001b[0mmode\u001b[0m\u001b[1;33m,\u001b[0m\u001b[1;33m\u001b[0m\u001b[1;33m\u001b[0m\u001b[0m\n",
      "\u001b[1;31mFileNotFoundError\u001b[0m: [Errno 2] No such file or directory: 'landscape_2018_AlabamatoMontana.csv'"
     ]
    }
   ],
   "source": [
    "premium = pd.read_csv('landscape_2018_AlabamatoMontana.csv',skiprows=3)\n",
    "premium.head()"
   ]
  },
  {
   "cell_type": "markdown",
   "id": "3b829ab7",
   "metadata": {},
   "source": [
    "### 1.a. "
   ]
  },
  {
   "cell_type": "code",
   "execution_count": null,
   "id": "e4393b74",
   "metadata": {},
   "outputs": [],
   "source": [
    "# number of rows with data\n",
    "rows_with_data = premium.count(axis = 'rows')\n",
    "rows_with_data"
   ]
  },
  {
   "cell_type": "code",
   "execution_count": null,
   "id": "c6f6ff35",
   "metadata": {},
   "outputs": [],
   "source": [
    "# number of variables with data\n",
    "variables_with_data = premium.count(axis = 'columns')\n",
    "variables_with_data"
   ]
  },
  {
   "cell_type": "markdown",
   "id": "4fa0c752",
   "metadata": {},
   "source": [
    "### 1.b. "
   ]
  },
  {
   "cell_type": "code",
   "execution_count": null,
   "id": "66728ad7",
   "metadata": {},
   "outputs": [],
   "source": [
    "# Check if all the ID data are the same type\n",
    "print(premium['Plan ID'].dtypes)\n",
    "premium.dropna(subset = ['Plan ID','Segment ID','Contract ID'], inplace = True)\n",
    "premium['Plan ID'] = premium['Plan ID'].astype(int)\n",
    "print(premium['Segment ID'].dtypes)\n",
    "premium['Segment ID'] = premium['Segment ID'].astype(int)"
   ]
  },
  {
   "cell_type": "code",
   "execution_count": null,
   "id": "326c31fa",
   "metadata": {},
   "outputs": [],
   "source": [
    "# number of products\n",
    "premium[['Contract ID', 'Plan ID', 'Segment ID']].drop_duplicates().count().iloc[0]"
   ]
  },
  {
   "cell_type": "code",
   "execution_count": null,
   "id": "e632f344",
   "metadata": {},
   "outputs": [],
   "source": [
    "# number of organizations\n",
    "premium['Organization Name'].nunique()"
   ]
  },
  {
   "cell_type": "code",
   "execution_count": null,
   "id": "74fb01fb",
   "metadata": {},
   "outputs": [],
   "source": [
    "# which organization sell the most products\n",
    "premium.drop_duplicates(subset = ['Contract ID', 'Plan ID', 'Segment ID'])['Organization Name'].value_counts()"
   ]
  },
  {
   "cell_type": "markdown",
   "id": "bbdb23a4",
   "metadata": {},
   "source": [
    "### 1.c."
   ]
  },
  {
   "cell_type": "code",
   "execution_count": null,
   "id": "d73f95c1",
   "metadata": {},
   "outputs": [],
   "source": [
    "# count duplicates\n",
    "premium[['Contract ID', 'Plan ID', 'Segment ID','County','State']].count().iloc[0] - premium[['Contract ID', 'Plan ID', 'Segment ID','County','State']].drop_duplicates().count().iloc[0]"
   ]
  },
  {
   "cell_type": "code",
   "execution_count": null,
   "id": "39440699",
   "metadata": {},
   "outputs": [],
   "source": [
    "# drop duplicates\n",
    "premium = premium.drop_duplicates()\n",
    "premium.count(axis = 'rows')"
   ]
  },
  {
   "cell_type": "markdown",
   "id": "c8413ed3",
   "metadata": {},
   "source": [
    "### 1.d. "
   ]
  },
  {
   "cell_type": "code",
   "execution_count": null,
   "id": "5b136977",
   "metadata": {},
   "outputs": [],
   "source": [
    "premium1 = premium[premium['Plan Type'] != 'Medicare Prescription Drug Plan']\n",
    "premium['Plan Type'].count() - premium1['Plan Type'].count()"
   ]
  },
  {
   "cell_type": "code",
   "execution_count": null,
   "id": "08b61a42",
   "metadata": {},
   "outputs": [],
   "source": [
    "premium2 = premium1[premium1['Special Needs Plan'] != 'Yes']\n",
    "premium['Plan Type'].count() - premium2['Plan Type'].count()"
   ]
  },
  {
   "cell_type": "markdown",
   "id": "da7ea5d5",
   "metadata": {},
   "source": [
    "### 1.e."
   ]
  },
  {
   "cell_type": "code",
   "execution_count": null,
   "id": "86381a4f",
   "metadata": {
    "scrolled": true
   },
   "outputs": [],
   "source": [
    "# convert price to numbers\n",
    "premium2[['Part C Premium2','Part D Basic Premium3','Part D Supplemental Premium4','Part D Total Premium5',\n",
    "          'Part D Premium Obligation with Full Premium Assistance6','Part D Premium Obligation with 75% Premium Assistance',\n",
    "          'Part D Premium Obligation with 50% Premium Assistance','Part D Premium Obligation with 25% Premium Assistance',\n",
    "          'Part D Drug Deductible']] = premium2[['Part C Premium2','Part D Basic Premium3','Part D Supplemental Premium4','Part D Total Premium5',\n",
    "          'Part D Premium Obligation with Full Premium Assistance6','Part D Premium Obligation with 75% Premium Assistance',\n",
    "          'Part D Premium Obligation with 50% Premium Assistance','Part D Premium Obligation with 25% Premium Assistance',\n",
    "          'Part D Drug Deductible']].replace('[\\$,]', '', regex=True).astype(float)\n",
    "premium2.head()"
   ]
  },
  {
   "cell_type": "code",
   "execution_count": null,
   "id": "b940574e",
   "metadata": {},
   "outputs": [],
   "source": [
    "#create total premium column\n",
    "premium2 = premium2.drop(columns = ['Part D Basic Premium3','Part D Supplemental Premium4',\n",
    "          'Part D Premium Obligation with Full Premium Assistance6','Part D Premium Obligation with 75% Premium Assistance',\n",
    "          'Part D Premium Obligation with 50% Premium Assistance','Part D Premium Obligation with 25% Premium Assistance',\n",
    "          'Part D Drug Deductible'])\n",
    "\n",
    "premium2['Total Premium'] = premium2['Part C Premium2'] + premium2['Part D Total Premium5']\n",
    "premium2.dropna(subset = ['Total Premium'], inplace = True)\n",
    "premium2"
   ]
  },
  {
   "cell_type": "markdown",
   "id": "ff7a9a65",
   "metadata": {},
   "source": [
    "### 1.f."
   ]
  },
  {
   "cell_type": "code",
   "execution_count": null,
   "id": "2b3e8457",
   "metadata": {
    "scrolled": false
   },
   "outputs": [],
   "source": [
    "# i \n",
    "form1 = premium2.groupby('State')['Total Premium'].agg(['min', 'mean', 'median', 'max'])\n",
    "form1.to_csv('form1.csv')\n",
    "form1"
   ]
  },
  {
   "cell_type": "code",
   "execution_count": null,
   "id": "5cc6e1cf",
   "metadata": {},
   "outputs": [],
   "source": [
    "# i. fraction\n",
    "premium2['temp'] = premium2['Total Premium'] == 0\n",
    "form2 = premium2.groupby('State')['temp'].mean()\n",
    "form2.to_csv('form2.csv')\n",
    "form2"
   ]
  },
  {
   "cell_type": "code",
   "execution_count": null,
   "id": "f8b9786c",
   "metadata": {
    "scrolled": false
   },
   "outputs": [],
   "source": [
    "#iii\n",
    "premium2.groupby('Plan Type')['Total Premium'].agg(['min', 'mean', 'median', 'max'])"
   ]
  },
  {
   "cell_type": "code",
   "execution_count": null,
   "id": "47f28ec1",
   "metadata": {},
   "outputs": [],
   "source": [
    "premium2.groupby('Organization Name')['Total Premium'].agg(['min', 'mean', 'median', 'max'])"
   ]
  },
  {
   "cell_type": "markdown",
   "id": "cccbb17d",
   "metadata": {},
   "source": [
    "### 1.g."
   ]
  },
  {
   "cell_type": "code",
   "execution_count": null,
   "id": "ef07d6f4",
   "metadata": {},
   "outputs": [],
   "source": [
    "premium2.to_csv('premium2.csv', index=False)"
   ]
  },
  {
   "cell_type": "markdown",
   "id": "c54b1657",
   "metadata": {},
   "source": [
    "### 2.a."
   ]
  },
  {
   "cell_type": "code",
   "execution_count": null,
   "id": "832d59e3",
   "metadata": {
    "scrolled": true
   },
   "outputs": [],
   "source": [
    "enroll = pd.read_csv('enrollment_2018.csv')\n",
    "enroll.shape\n",
    "enroll"
   ]
  },
  {
   "cell_type": "markdown",
   "id": "421a9aea",
   "metadata": {},
   "source": [
    "### 2.b."
   ]
  },
  {
   "cell_type": "code",
   "execution_count": null,
   "id": "706a5de2",
   "metadata": {},
   "outputs": [],
   "source": [
    "enroll.dropna(subset = ['State','State'], inplace = True)\n",
    "enroll.shape"
   ]
  },
  {
   "cell_type": "markdown",
   "id": "611bc34c",
   "metadata": {},
   "source": [
    "### 2.c."
   ]
  },
  {
   "cell_type": "code",
   "execution_count": null,
   "id": "c6d46221",
   "metadata": {},
   "outputs": [],
   "source": [
    "enroll.replace({'*':0},inplace=True)\n",
    "enroll"
   ]
  },
  {
   "cell_type": "code",
   "execution_count": null,
   "id": "fa8ded30",
   "metadata": {},
   "outputs": [],
   "source": [
    "enroll['Enrollment'] = enroll['Enrollment'].astype(int)"
   ]
  },
  {
   "cell_type": "code",
   "execution_count": null,
   "id": "d78f58ae",
   "metadata": {},
   "outputs": [],
   "source": [
    "enroll['Enrollment'].sum()"
   ]
  },
  {
   "cell_type": "code",
   "execution_count": null,
   "id": "eb9557f0",
   "metadata": {
    "scrolled": true
   },
   "outputs": [],
   "source": [
    "enroll.groupby('State')['Enrollment'].max().idxmax()"
   ]
  },
  {
   "cell_type": "markdown",
   "id": "5ee44bb1",
   "metadata": {},
   "source": [
    "### 2.d."
   ]
  },
  {
   "cell_type": "code",
   "execution_count": null,
   "id": "491d6d91",
   "metadata": {
    "scrolled": true
   },
   "outputs": [],
   "source": [
    "print(enroll['Plan ID'].dtypes)\n",
    "enroll.dropna(subset = ['Plan ID','Contract Number'], inplace = True)\n",
    "# count duplicates\n",
    "enroll[enroll.duplicated(subset = ['Contract Number', 'Plan ID','State','County'])]"
   ]
  },
  {
   "cell_type": "code",
   "execution_count": null,
   "id": "82e8809d",
   "metadata": {},
   "outputs": [],
   "source": [
    "# Aggregate dupplicates\n",
    "enroll.groupby(['Contract Number', 'Plan ID','State','County'])['Enrollment'].sum().shape"
   ]
  },
  {
   "cell_type": "code",
   "execution_count": null,
   "id": "7cd25a0e",
   "metadata": {
    "scrolled": false
   },
   "outputs": [],
   "source": [
    "enroll.drop('Enrollment', axis = 1)"
   ]
  },
  {
   "cell_type": "code",
   "execution_count": null,
   "id": "cb13a635",
   "metadata": {},
   "outputs": [],
   "source": [
    "temp = enroll.groupby(['Contract Number', 'Plan ID','State','County'])['Enrollment'].sum().reset_index()"
   ]
  },
  {
   "cell_type": "code",
   "execution_count": null,
   "id": "0d096dc5",
   "metadata": {
    "scrolled": false
   },
   "outputs": [],
   "source": [
    "temp"
   ]
  },
  {
   "cell_type": "markdown",
   "id": "456f89fd",
   "metadata": {},
   "source": [
    "### 2.e."
   ]
  },
  {
   "cell_type": "code",
   "execution_count": null,
   "id": "a7eb948c",
   "metadata": {},
   "outputs": [],
   "source": [
    "state_map = {\"AL\": \"Alabama\",\n",
    "  \"AK\": \"Alaska\",\n",
    "  \"AZ\": \"Arizona\",\n",
    "  \"AR\": \"Arkansas\",\n",
    "  \"CA\": \"California\",\n",
    "  \"CO\": \"Colorado\",\n",
    "  \"CT\": \"Connecticut\",\n",
    "  \"DE\": \"Delaware\",\n",
    "  \"DC\": \"District of Columbia\",\n",
    "  \"FL\": \"Florida\",\n",
    "  \"GA\": \"Georgia\",\n",
    "  \"HI\": \"Hawaii\",\n",
    "  \"ID\": \"Idaho\",\n",
    "  \"IL\": \"Illinois\",\n",
    "  \"IN\": \"Indiana\",\n",
    "  \"IA\": \"Iowa\",\n",
    "  \"KS\": \"Kansas\",\n",
    "  \"KY\": \"Kentucky\",\n",
    "  \"LA\": \"Louisiana\",\n",
    "  \"ME\": \"Maine\",\n",
    "  \"MT\": \"Montana\",\n",
    "  \"NE\": \"Nebraska\",\n",
    "  \"NV\": \"Nevada\",\n",
    "  \"NH\": \"New Hampshire\",\n",
    "  \"NJ\": \"New Jersey\",\n",
    "  \"NM\": \"New Mexico\",\n",
    "  \"NY\": \"New York\",\n",
    "  \"NC\": \"North Carolina\",\n",
    "  \"ND\": \"North Dakota\",\n",
    "  \"OH\": \"Ohio\",\n",
    "  \"OK\": \"Oklahoma\",\n",
    "  \"OR\": \"Oregon\",\n",
    "  \"MD\": \"Maryland\",\n",
    "  \"MA\": \"Massachusetts\",\n",
    "  \"MI\": \"Michigan\",\n",
    "  \"MN\": \"Minnesota\",\n",
    "  \"MS\": \"Mississippi\",\n",
    "  \"MO\": \"Missouri\",\n",
    "  \"PA\": \"Pennsylvania\",\n",
    "  \"RI\": \"Rhode Island\",\n",
    "  \"SC\": \"South Carolina\",\n",
    "  \"SD\": \"South Dakota\",\n",
    "  \"TN\": \"Tennessee\",\n",
    "  \"TX\": \"Texas\",\n",
    "  \"UT\": \"Utah\",\n",
    "  \"VT\": \"Vermont\",\n",
    "  \"VA\": \"Virginia\",\n",
    "  \"WA\": \"Washington\",\n",
    "  \"WV\": \"West Virginia\",\n",
    "  \"WI\": \"Wisconsin\",\n",
    "  \"WY\": \"Wyoming\"}"
   ]
  },
  {
   "cell_type": "code",
   "execution_count": null,
   "id": "6361e218",
   "metadata": {
    "scrolled": true
   },
   "outputs": [],
   "source": [
    "temp = temp[temp['State'].apply(lambda x: x not in ['PR','GU','AS','VI','MP'])]"
   ]
  },
  {
   "cell_type": "code",
   "execution_count": null,
   "id": "a4116845",
   "metadata": {
    "scrolled": false
   },
   "outputs": [],
   "source": [
    "temp['State'] = temp['State'].apply(lambda x: state_map[x])\n",
    "temp"
   ]
  },
  {
   "cell_type": "markdown",
   "id": "138f4d87",
   "metadata": {},
   "source": [
    "### 2.f."
   ]
  },
  {
   "cell_type": "code",
   "execution_count": null,
   "id": "957e4d85",
   "metadata": {},
   "outputs": [],
   "source": [
    "temp.to_csv('enroll2.csv', index=False)"
   ]
  },
  {
   "cell_type": "markdown",
   "id": "3aaa8a5f",
   "metadata": {},
   "source": [
    "### 3.a."
   ]
  },
  {
   "cell_type": "code",
   "execution_count": null,
   "id": "a5598770",
   "metadata": {
    "scrolled": true
   },
   "outputs": [],
   "source": [
    "premium2\n",
    "premium2.columns"
   ]
  },
  {
   "cell_type": "code",
   "execution_count": null,
   "id": "81af3182",
   "metadata": {
    "scrolled": true
   },
   "outputs": [],
   "source": [
    "premium2_temp = premium2.groupby(['Contract ID', 'Plan ID','State','County'])['Total Premium'].mean().reset_index()\n",
    "premium2_temp"
   ]
  },
  {
   "cell_type": "code",
   "execution_count": null,
   "id": "0277970b",
   "metadata": {},
   "outputs": [],
   "source": [
    "premium_new = premium2.merge(premium2_temp, on = ['Contract ID', 'Plan ID','State','County','Total Premium'],\n",
    "                       how = 'right').drop(columns = ['Plan Name','Segment ID',\n",
    "                                                      'Organization Type','Special Needs Plan', 'Special Needs Plan Type', 'Benefit Type',\n",
    "       'Part D Basic Premium Below Regional Benchmark?', 'National PDP',\n",
    "       'Part C Premium2', 'Part D Total Premium5',\n",
    "       'Tiers Not Subject to Deductible7', 'Increased Initial Coverage Limit8',\n",
    "       'Extra Coverage in Gap', 'Unnamed: 26', 'temp'])\n",
    "premium_new"
   ]
  },
  {
   "cell_type": "code",
   "execution_count": null,
   "id": "f127fa74",
   "metadata": {},
   "outputs": [],
   "source": [
    "premium_new.shape[0]"
   ]
  },
  {
   "cell_type": "markdown",
   "id": "61c719e5",
   "metadata": {},
   "source": [
    "### 3.b."
   ]
  },
  {
   "cell_type": "code",
   "execution_count": null,
   "id": "974d8877",
   "metadata": {},
   "outputs": [],
   "source": [
    "temp.shape"
   ]
  },
  {
   "cell_type": "code",
   "execution_count": null,
   "id": "9dd8aaa4",
   "metadata": {},
   "outputs": [],
   "source": [
    "# get the list of states in the price df\n",
    "unique_states = premium_new['State'].unique()\n",
    "unique_states"
   ]
  },
  {
   "cell_type": "code",
   "execution_count": null,
   "id": "00b86cbb",
   "metadata": {
    "scrolled": true
   },
   "outputs": [],
   "source": [
    "enroll_new = temp[temp['State'].isin(unique_states)] \n",
    "enroll_new.shape"
   ]
  },
  {
   "cell_type": "code",
   "execution_count": null,
   "id": "3788df29",
   "metadata": {
    "scrolled": true
   },
   "outputs": [],
   "source": [
    "(temp.shape[0] - enroll_new.shape[0])/temp.shape[0]"
   ]
  },
  {
   "cell_type": "code",
   "execution_count": null,
   "id": "46f5ca9d",
   "metadata": {},
   "outputs": [],
   "source": [
    "enroll_new = enroll_new.rename(columns={\"Contract Number\":\"Contract ID\"})\n",
    "enroll_new"
   ]
  },
  {
   "cell_type": "markdown",
   "id": "4b1489ca",
   "metadata": {},
   "source": [
    "### 3.c."
   ]
  },
  {
   "cell_type": "code",
   "execution_count": null,
   "id": "04888f1d",
   "metadata": {},
   "outputs": [],
   "source": [
    "# check if there is any NA in the datasets\n",
    "if enroll_new.isna().values.any():\n",
    "    print(\"There are missing values in the DataFrame.\")\n",
    "else:\n",
    "    print(\"There are no missing values in the DataFrame.\")\n",
    "    \n",
    "if premium_new.isna().values.any():\n",
    "    print(\"There are missing values in the DataFrame.\")\n",
    "else:\n",
    "    print(\"There are no missing values in the DataFrame.\")"
   ]
  },
  {
   "cell_type": "code",
   "execution_count": null,
   "id": "79d61cf7",
   "metadata": {},
   "outputs": [],
   "source": [
    "# All the NAs that will appear next are generated in merging."
   ]
  },
  {
   "cell_type": "code",
   "execution_count": null,
   "id": "d6ed5f95",
   "metadata": {},
   "outputs": [],
   "source": [
    "df_merge = enroll_new.merge(premium_new, on = ['Contract ID', 'Plan ID','State','County'],\n",
    "                       how = 'outer',\n",
    "                           indicator=True)"
   ]
  },
  {
   "cell_type": "code",
   "execution_count": null,
   "id": "b809d61a",
   "metadata": {
    "scrolled": false
   },
   "outputs": [],
   "source": [
    "df_merge"
   ]
  },
  {
   "cell_type": "code",
   "execution_count": null,
   "id": "93167b96",
   "metadata": {},
   "outputs": [],
   "source": [
    "df_merge['_merge'].value_counts()"
   ]
  },
  {
   "cell_type": "code",
   "execution_count": null,
   "id": "4ea6ab01",
   "metadata": {},
   "outputs": [],
   "source": [
    "(df_merge['_merge'] == 'both').mean()"
   ]
  },
  {
   "cell_type": "markdown",
   "id": "eb5e3c3c",
   "metadata": {},
   "source": [
    "### 3.d."
   ]
  },
  {
   "cell_type": "code",
   "execution_count": null,
   "id": "69a5b5e3",
   "metadata": {},
   "outputs": [],
   "source": [
    "#fraction of the price data has any match was indicated by merge type \"both\", \n",
    "#therefore, we can get the fraction by dividing number of \"both\" by length of price dataset\n",
    "fraction1 = 12086 / 12096\n",
    "fraction1"
   ]
  },
  {
   "cell_type": "code",
   "execution_count": null,
   "id": "b6bf17d7",
   "metadata": {},
   "outputs": [],
   "source": [
    "#Select unmatched data\n",
    "df_merge1 = df_merge[df_merge['_merge'] == 'right_only']\n",
    "df_merge1"
   ]
  },
  {
   "cell_type": "code",
   "execution_count": null,
   "id": "8bfeefef",
   "metadata": {
    "scrolled": true
   },
   "outputs": [],
   "source": [
    "#Test if states and counties of the unmatched data also exist in the enrollment data\n",
    "temp1 = df_merge1[['State','County']].drop_duplicates()\n",
    "df_merge2 = enroll_new.merge(temp1, on = ['State','County'],\n",
    "                       how = 'right',\n",
    "                           indicator=True)\n",
    "df_merge2\n",
    "# Their states and counties are not in the enrollment data."
   ]
  },
  {
   "cell_type": "code",
   "execution_count": null,
   "id": "4aec8c61",
   "metadata": {
    "scrolled": true
   },
   "outputs": [],
   "source": [
    "#Test if contract and plan id of the unmatched data also exist in the enrollment data\n",
    "temp2 = df_merge1[['Contract ID','Plan ID']].drop_duplicates()\n",
    "df_merge3 = enroll_new.merge(temp2, on = ['Contract ID','Plan ID'],\n",
    "                       how = 'right',\n",
    "                           indicator=True)\n",
    "df_merge3"
   ]
  },
  {
   "cell_type": "code",
   "execution_count": null,
   "id": "2b00acda",
   "metadata": {},
   "outputs": [],
   "source": [
    "# The difference between matched and unmatched data is that the combinations of state and county of the unique products do not\n",
    "# exist in the enrollment data, which in reality means that people from that region who paid premiums for the MA plans\n",
    "# were not recorded in the enrollment data (or were dropped in previous process)"
   ]
  },
  {
   "cell_type": "markdown",
   "id": "cfbf7e91",
   "metadata": {},
   "source": [
    "### 3.e."
   ]
  },
  {
   "cell_type": "code",
   "execution_count": null,
   "id": "1723b241",
   "metadata": {},
   "outputs": [],
   "source": [
    "# Assumption, the reason why State-county combination: \"California,Los Angeles (Partial)\" &\"Arizona ,Pinal (Partial)\"\n",
    "# not in the enrollment data is because of the \"(Partial)\"\n",
    "# Check if there is any \"California,Los Angeles\" & \"Arizona ,Pinal\" combination in the enrollment data.\n",
    "is_value_in_State = enroll_new['State'].isin(['California','Arizona']).any()\n",
    "is_value_in_State"
   ]
  },
  {
   "cell_type": "code",
   "execution_count": null,
   "id": "974e0cc7",
   "metadata": {},
   "outputs": [],
   "source": [
    "is_value_in_County = enroll_new['County'].isin(['Los Angeles','Pinal']).any()\n",
    "is_value_in_County"
   ]
  },
  {
   "cell_type": "code",
   "execution_count": null,
   "id": "f0159c5c",
   "metadata": {
    "scrolled": true
   },
   "outputs": [],
   "source": [
    "premium_new"
   ]
  },
  {
   "cell_type": "code",
   "execution_count": null,
   "id": "8a27fd7f",
   "metadata": {},
   "outputs": [],
   "source": [
    "# Replace \"California,Los Angeles (Partial)\" & \"Arizona ,Pinal (Partial)\" with \"California,Los Angeles\" & \"Arizona ,Pinal\"\n",
    "premium_new['County'] = premium_new[['County']].replace('Los Angeles (Partial)', 'Los Angeles').replace('Pinal (Partial)', 'Pinal')\n",
    "premium_new"
   ]
  },
  {
   "cell_type": "code",
   "execution_count": null,
   "id": "49d32518",
   "metadata": {},
   "outputs": [],
   "source": [
    "df_merge_new = enroll_new.merge(premium_new, on = ['Contract ID', 'Plan ID','State','County'],\n",
    "                       how = 'outer',\n",
    "                           indicator=True)\n",
    "df_merge_new"
   ]
  },
  {
   "cell_type": "code",
   "execution_count": null,
   "id": "73d56fbf",
   "metadata": {},
   "outputs": [],
   "source": [
    "df_merge4 = df_merge_new[df_merge_new['_merge'] == 'right_only']\n",
    "df_merge4"
   ]
  },
  {
   "cell_type": "code",
   "execution_count": null,
   "id": "20f6a575",
   "metadata": {},
   "outputs": [],
   "source": [
    "# There is no county named \"LaSalle\" in the enrollment data.\n",
    "is_value_in_County1 = enroll_new['County'].isin(['LaSalle']).any()\n",
    "is_value_in_County1"
   ]
  },
  {
   "cell_type": "code",
   "execution_count": null,
   "id": "f88ceac2",
   "metadata": {},
   "outputs": [],
   "source": [
    "#That is because \"LaSalle\" was recorded as \"La Salle\".\n",
    "enroll_new[enroll_new['County'].apply(lambda x: True if 'La Salle' in x else False)]"
   ]
  },
  {
   "cell_type": "code",
   "execution_count": null,
   "id": "3c6af7ab",
   "metadata": {},
   "outputs": [],
   "source": [
    "premium_new['County'] = premium_new[['County']].replace('LaSalle', 'La Salle')\n",
    "premium_new"
   ]
  },
  {
   "cell_type": "code",
   "execution_count": null,
   "id": "db82c190",
   "metadata": {
    "scrolled": true
   },
   "outputs": [],
   "source": [
    "df_merge_new1 = enroll_new.merge(premium_new, on = ['Contract ID', 'Plan ID','State','County'],\n",
    "                       how = 'outer',\n",
    "                           indicator=True)\n",
    "df_merge_new1"
   ]
  },
  {
   "cell_type": "code",
   "execution_count": null,
   "id": "087d1708",
   "metadata": {},
   "outputs": [],
   "source": [
    "df_merge_new1['_merge'].value_counts()"
   ]
  },
  {
   "cell_type": "markdown",
   "id": "cbeb2a81",
   "metadata": {},
   "source": [
    "### 3.f."
   ]
  },
  {
   "cell_type": "code",
   "execution_count": null,
   "id": "03207be2",
   "metadata": {},
   "outputs": [],
   "source": [
    "df_merge_new1['Total Premium'].notna().mean()"
   ]
  },
  {
   "cell_type": "code",
   "execution_count": null,
   "id": "b7fe73fc",
   "metadata": {
    "scrolled": true
   },
   "outputs": [],
   "source": [
    "temp_2 = df_merge_new1[['State', 'Total Premium']].apply(lambda x: dct[x['State']] if pd.isna(x['Total Premium']) else x['Total Premium'],axis = 1)\n",
    "df_merge_new1['Total Premium1'] = temp_2"
   ]
  },
  {
   "cell_type": "code",
   "execution_count": null,
   "id": "75a60e43",
   "metadata": {},
   "outputs": [],
   "source": [
    "df_merge_new2 = df_merge_new1.drop(columns = ['_merge','Total Premium'])\n",
    "df_merge_new2"
   ]
  },
  {
   "cell_type": "markdown",
   "id": "dc0a6c2c",
   "metadata": {},
   "source": [
    "### 3.g."
   ]
  },
  {
   "cell_type": "code",
   "execution_count": null,
   "id": "84c17e03",
   "metadata": {},
   "outputs": [],
   "source": [
    "df_merge_new3 = df_merge_new1.drop(columns = ['_merge','Total Premium1']).dropna()\n",
    "df_merge_new3"
   ]
  },
  {
   "cell_type": "markdown",
   "id": "2d331b18",
   "metadata": {},
   "source": [
    "### 3.h."
   ]
  },
  {
   "cell_type": "code",
   "execution_count": null,
   "id": "a44ed84e",
   "metadata": {},
   "outputs": [],
   "source": [
    "#i\n",
    "df_merge_new3['contract_plan'] = df_merge_new3['Contract ID'] + df_merge_new3['Plan ID'].astype('str')\n",
    "df_hist = df_merge_new3.groupby('County')['contract_plan'].count().reset_index()"
   ]
  },
  {
   "cell_type": "code",
   "execution_count": null,
   "id": "9a31e619",
   "metadata": {},
   "outputs": [],
   "source": [
    "df_hist"
   ]
  },
  {
   "cell_type": "code",
   "execution_count": 1,
   "id": "95d98b0f",
   "metadata": {},
   "outputs": [
    {
     "ename": "NameError",
     "evalue": "name 'df_hist' is not defined",
     "output_type": "error",
     "traceback": [
      "\u001b[1;31m---------------------------------------------------------------------------\u001b[0m",
      "\u001b[1;31mNameError\u001b[0m                                 Traceback (most recent call last)",
      "\u001b[1;32m~\\AppData\\Local\\Temp/ipykernel_20144/877606187.py\u001b[0m in \u001b[0;36m<module>\u001b[1;34m\u001b[0m\n\u001b[1;32m----> 1\u001b[1;33m \u001b[0mdf_hist\u001b[0m\u001b[1;33m\u001b[0m\u001b[1;33m\u001b[0m\u001b[0m\n\u001b[0m",
      "\u001b[1;31mNameError\u001b[0m: name 'df_hist' is not defined"
     ]
    }
   ],
   "source": [
    "df_hist"
   ]
  },
  {
   "cell_type": "code",
   "execution_count": 588,
   "id": "866852dc",
   "metadata": {},
   "outputs": [
    {
     "data": {
      "text/plain": [
       "<AxesSubplot:xlabel='County', ylabel='contract_plan'>"
      ]
     },
     "execution_count": 588,
     "metadata": {},
     "output_type": "execute_result"
    },
    {
     "data": {
      "image/png": "[encoded data removed]",
      "text/plain": [
       "<Figure size 432x288 with 1 Axes>"
      ]
     },
     "metadata": {
      "needs_background": "light"
     },
     "output_type": "display_data"
    }
   ],
   "source": [
    "#import library\n",
    "import seaborn as sns\n",
    "\n",
    "#Using distplot function, create a graph\n",
    "sns.barplot(data = df_hist, x = 'County', y = 'contract_plan')"
   ]
  },
  {
   "cell_type": "code",
   "execution_count": 589,
   "id": "87b1df57",
   "metadata": {},
   "outputs": [
    {
     "data": {
      "text/plain": [
       "<AxesSubplot:xlabel='Organization Name', ylabel='contract_plan'>"
      ]
     },
     "execution_count": 589,
     "metadata": {},
     "output_type": "execute_result"
    },
    {
     "data": {
      "image/png": "[encoded data removed]",
      "text/plain": [
       "<Figure size 432x288 with 1 Axes>"
      ]
     },
     "metadata": {
      "needs_background": "light"
     },
     "output_type": "display_data"
    }
   ],
   "source": [
    "#ii\n",
    "df_merge_new3['contract_plan'] = df_merge_new3['Contract ID'] + df_merge_new3['Plan ID'].astype('str')\n",
    "df_hist_o = df_merge_new3.groupby('Organization Name')['contract_plan'].count().reset_index()\n",
    "df_hist_o\n",
    "sns.barplot(data = df_hist_o, x = 'Organization Name', y = 'contract_plan')"
   ]
  },
  {
   "cell_type": "code",
   "execution_count": 598,
   "id": "73e209e8",
   "metadata": {},
   "outputs": [
    {
     "data": {
      "text/html": [
       "<div>\n",
       "<style scoped>\n",
       "    .dataframe tbody tr th:only-of-type {\n",
       "        vertical-align: middle;\n",
       "    }\n",
       "\n",
       "    .dataframe tbody tr th {\n",
       "        vertical-align: top;\n",
       "    }\n",
       "\n",
       "    .dataframe thead th {\n",
       "        text-align: right;\n",
       "    }\n",
       "</style>\n",
       "<table border=\"1\" class=\"dataframe\">\n",
       "  <thead>\n",
       "    <tr style=\"text-align: right;\">\n",
       "      <th></th>\n",
       "      <th>Contract ID</th>\n",
       "      <th>Plan ID</th>\n",
       "      <th>State</th>\n",
       "      <th>County</th>\n",
       "      <th>Enrollment</th>\n",
       "      <th>Organization Name</th>\n",
       "      <th>Plan Type</th>\n",
       "      <th>Total Premium</th>\n",
       "      <th>contract_plan</th>\n",
       "    </tr>\n",
       "  </thead>\n",
       "  <tbody>\n",
       "    <tr>\n",
       "      <th>4947</th>\n",
       "      <td>H0028</td>\n",
       "      <td>4</td>\n",
       "      <td>Hawaii</td>\n",
       "      <td>Honolulu</td>\n",
       "      <td>2759</td>\n",
       "      <td>CHA HMO, Inc.</td>\n",
       "      <td>HMO</td>\n",
       "      <td>0.0</td>\n",
       "      <td>H00284</td>\n",
       "    </tr>\n",
       "    <tr>\n",
       "      <th>4948</th>\n",
       "      <td>H0028</td>\n",
       "      <td>4</td>\n",
       "      <td>Hawaii</td>\n",
       "      <td>Kauai</td>\n",
       "      <td>1436</td>\n",
       "      <td>CHA HMO, Inc.</td>\n",
       "      <td>HMO</td>\n",
       "      <td>0.0</td>\n",
       "      <td>H00284</td>\n",
       "    </tr>\n",
       "    <tr>\n",
       "      <th>4949</th>\n",
       "      <td>H0028</td>\n",
       "      <td>4</td>\n",
       "      <td>Hawaii</td>\n",
       "      <td>Maui</td>\n",
       "      <td>2322</td>\n",
       "      <td>CHA HMO, Inc.</td>\n",
       "      <td>HMO</td>\n",
       "      <td>0.0</td>\n",
       "      <td>H00284</td>\n",
       "    </tr>\n",
       "    <tr>\n",
       "      <th>4966</th>\n",
       "      <td>H0028</td>\n",
       "      <td>8</td>\n",
       "      <td>Iowa</td>\n",
       "      <td>Benton</td>\n",
       "      <td>192</td>\n",
       "      <td>CHA HMO, Inc.</td>\n",
       "      <td>HMO</td>\n",
       "      <td>0.0</td>\n",
       "      <td>H00288</td>\n",
       "    </tr>\n",
       "    <tr>\n",
       "      <th>4967</th>\n",
       "      <td>H0028</td>\n",
       "      <td>8</td>\n",
       "      <td>Iowa</td>\n",
       "      <td>Black Hawk</td>\n",
       "      <td>604</td>\n",
       "      <td>CHA HMO, Inc.</td>\n",
       "      <td>HMO</td>\n",
       "      <td>0.0</td>\n",
       "      <td>H00288</td>\n",
       "    </tr>\n",
       "    <tr>\n",
       "      <th>...</th>\n",
       "      <td>...</td>\n",
       "      <td>...</td>\n",
       "      <td>...</td>\n",
       "      <td>...</td>\n",
       "      <td>...</td>\n",
       "      <td>...</td>\n",
       "      <td>...</td>\n",
       "      <td>...</td>\n",
       "      <td>...</td>\n",
       "    </tr>\n",
       "    <tr>\n",
       "      <th>697144</th>\n",
       "      <td>R7444</td>\n",
       "      <td>8</td>\n",
       "      <td>Georgia</td>\n",
       "      <td>Whitfield</td>\n",
       "      <td>767</td>\n",
       "      <td>UnitedHealthcare</td>\n",
       "      <td>Regional PPO</td>\n",
       "      <td>39.0</td>\n",
       "      <td>R74448</td>\n",
       "    </tr>\n",
       "    <tr>\n",
       "      <th>697145</th>\n",
       "      <td>R7444</td>\n",
       "      <td>8</td>\n",
       "      <td>Georgia</td>\n",
       "      <td>Wilcox</td>\n",
       "      <td>82</td>\n",
       "      <td>UnitedHealthcare</td>\n",
       "      <td>Regional PPO</td>\n",
       "      <td>39.0</td>\n",
       "      <td>R74448</td>\n",
       "    </tr>\n",
       "    <tr>\n",
       "      <th>697146</th>\n",
       "      <td>R7444</td>\n",
       "      <td>8</td>\n",
       "      <td>Georgia</td>\n",
       "      <td>Wilkes</td>\n",
       "      <td>163</td>\n",
       "      <td>UnitedHealthcare</td>\n",
       "      <td>Regional PPO</td>\n",
       "      <td>39.0</td>\n",
       "      <td>R74448</td>\n",
       "    </tr>\n",
       "    <tr>\n",
       "      <th>697147</th>\n",
       "      <td>R7444</td>\n",
       "      <td>8</td>\n",
       "      <td>Georgia</td>\n",
       "      <td>Wilkinson</td>\n",
       "      <td>128</td>\n",
       "      <td>UnitedHealthcare</td>\n",
       "      <td>Regional PPO</td>\n",
       "      <td>39.0</td>\n",
       "      <td>R74448</td>\n",
       "    </tr>\n",
       "    <tr>\n",
       "      <th>697148</th>\n",
       "      <td>R7444</td>\n",
       "      <td>8</td>\n",
       "      <td>Georgia</td>\n",
       "      <td>Worth</td>\n",
       "      <td>207</td>\n",
       "      <td>UnitedHealthcare</td>\n",
       "      <td>Regional PPO</td>\n",
       "      <td>39.0</td>\n",
       "      <td>R74448</td>\n",
       "    </tr>\n",
       "  </tbody>\n",
       "</table>\n",
       "<p>12096 rows × 9 columns</p>\n",
       "</div>"
      ],
      "text/plain": [
       "       Contract ID  Plan ID    State      County  Enrollment  \\\n",
       "4947         H0028        4   Hawaii    Honolulu        2759   \n",
       "4948         H0028        4   Hawaii       Kauai        1436   \n",
       "4949         H0028        4   Hawaii        Maui        2322   \n",
       "4966         H0028        8     Iowa      Benton         192   \n",
       "4967         H0028        8     Iowa  Black Hawk         604   \n",
       "...            ...      ...      ...         ...         ...   \n",
       "697144       R7444        8  Georgia   Whitfield         767   \n",
       "697145       R7444        8  Georgia      Wilcox          82   \n",
       "697146       R7444        8  Georgia      Wilkes         163   \n",
       "697147       R7444        8  Georgia   Wilkinson         128   \n",
       "697148       R7444        8  Georgia       Worth         207   \n",
       "\n",
       "       Organization Name     Plan Type  Total Premium contract_plan  \n",
       "4947       CHA HMO, Inc.           HMO            0.0        H00284  \n",
       "4948       CHA HMO, Inc.           HMO            0.0        H00284  \n",
       "4949       CHA HMO, Inc.           HMO            0.0        H00284  \n",
       "4966       CHA HMO, Inc.           HMO            0.0        H00288  \n",
       "4967       CHA HMO, Inc.           HMO            0.0        H00288  \n",
       "...                  ...           ...            ...           ...  \n",
       "697144  UnitedHealthcare  Regional PPO           39.0        R74448  \n",
       "697145  UnitedHealthcare  Regional PPO           39.0        R74448  \n",
       "697146  UnitedHealthcare  Regional PPO           39.0        R74448  \n",
       "697147  UnitedHealthcare  Regional PPO           39.0        R74448  \n",
       "697148  UnitedHealthcare  Regional PPO           39.0        R74448  \n",
       "\n",
       "[12096 rows x 9 columns]"
      ]
     },
     "execution_count": 598,
     "metadata": {},
     "output_type": "execute_result"
    }
   ],
   "source": [
    "df_merge_new3"
   ]
  },
  {
   "cell_type": "code",
   "execution_count": 590,
   "id": "5cebc4f7",
   "metadata": {},
   "outputs": [],
   "source": [
    "#iii\n",
    "county_enrollment_count = df_merge_new3.groupby('County')['Enrollment'].sum().reset_index().rename(columns ={'Enrollment': 'total_enrollment'})\n",
    "# df_merge_new3 = df_merge_new3.merge(county_enrollment_count, on ='County', how = 'inner')"
   ]
  },
  {
   "cell_type": "code",
   "execution_count": 591,
   "id": "8311f840",
   "metadata": {},
   "outputs": [
    {
     "data": {
      "text/html": [
       "<div>\n",
       "<style scoped>\n",
       "    .dataframe tbody tr th:only-of-type {\n",
       "        vertical-align: middle;\n",
       "    }\n",
       "\n",
       "    .dataframe tbody tr th {\n",
       "        vertical-align: top;\n",
       "    }\n",
       "\n",
       "    .dataframe thead th {\n",
       "        text-align: right;\n",
       "    }\n",
       "</style>\n",
       "<table border=\"1\" class=\"dataframe\">\n",
       "  <thead>\n",
       "    <tr style=\"text-align: right;\">\n",
       "      <th></th>\n",
       "      <th>County</th>\n",
       "      <th>total_enrollment</th>\n",
       "    </tr>\n",
       "  </thead>\n",
       "  <tbody>\n",
       "    <tr>\n",
       "      <th>0</th>\n",
       "      <td>Acadia</td>\n",
       "      <td>1227</td>\n",
       "    </tr>\n",
       "    <tr>\n",
       "      <th>1</th>\n",
       "      <td>Ada</td>\n",
       "      <td>32023</td>\n",
       "    </tr>\n",
       "    <tr>\n",
       "      <th>2</th>\n",
       "      <td>Adair</td>\n",
       "      <td>809</td>\n",
       "    </tr>\n",
       "    <tr>\n",
       "      <th>3</th>\n",
       "      <td>Adams</td>\n",
       "      <td>27662</td>\n",
       "    </tr>\n",
       "    <tr>\n",
       "      <th>4</th>\n",
       "      <td>Aitkin</td>\n",
       "      <td>550</td>\n",
       "    </tr>\n",
       "    <tr>\n",
       "      <th>...</th>\n",
       "      <td>...</td>\n",
       "      <td>...</td>\n",
       "    </tr>\n",
       "    <tr>\n",
       "      <th>989</th>\n",
       "      <td>Yellowstone</td>\n",
       "      <td>6414</td>\n",
       "    </tr>\n",
       "    <tr>\n",
       "      <th>990</th>\n",
       "      <td>Yolo</td>\n",
       "      <td>6659</td>\n",
       "    </tr>\n",
       "    <tr>\n",
       "      <th>991</th>\n",
       "      <td>York</td>\n",
       "      <td>12619</td>\n",
       "    </tr>\n",
       "    <tr>\n",
       "      <th>992</th>\n",
       "      <td>Yuba</td>\n",
       "      <td>436</td>\n",
       "    </tr>\n",
       "    <tr>\n",
       "      <th>993</th>\n",
       "      <td>Yuma</td>\n",
       "      <td>645</td>\n",
       "    </tr>\n",
       "  </tbody>\n",
       "</table>\n",
       "<p>994 rows × 2 columns</p>\n",
       "</div>"
      ],
      "text/plain": [
       "          County  total_enrollment\n",
       "0         Acadia              1227\n",
       "1            Ada             32023\n",
       "2          Adair               809\n",
       "3          Adams             27662\n",
       "4         Aitkin               550\n",
       "..           ...               ...\n",
       "989  Yellowstone              6414\n",
       "990         Yolo              6659\n",
       "991         York             12619\n",
       "992         Yuba               436\n",
       "993         Yuma               645\n",
       "\n",
       "[994 rows x 2 columns]"
      ]
     },
     "execution_count": 591,
     "metadata": {},
     "output_type": "execute_result"
    }
   ],
   "source": [
    "county_enrollment_count"
   ]
  },
  {
   "cell_type": "code",
   "execution_count": 612,
   "id": "249ce6e7",
   "metadata": {},
   "outputs": [],
   "source": [
    "temp = df_merge_new3.groupby(['Contract ID', 'Plan ID','County'])['Enrollment'].sum().reset_index()"
   ]
  },
  {
   "cell_type": "code",
   "execution_count": 613,
   "id": "49288d2f",
   "metadata": {},
   "outputs": [],
   "source": [
    "temp = temp.merge(county_enrollment_count, on ='County')\n",
    "temp['market_share'] = (temp['Enrollment']/temp['total_enrollment'])**2"
   ]
  },
  {
   "cell_type": "code",
   "execution_count": 614,
   "id": "b284ec8c",
   "metadata": {},
   "outputs": [],
   "source": [
    "temp = temp.groupby('County')['market_share'].sum().reset_index()"
   ]
  },
  {
   "cell_type": "code",
   "execution_count": 618,
   "id": "0009e074",
   "metadata": {},
   "outputs": [
    {
     "data": {
      "text/html": [
       "<div>\n",
       "<style scoped>\n",
       "    .dataframe tbody tr th:only-of-type {\n",
       "        vertical-align: middle;\n",
       "    }\n",
       "\n",
       "    .dataframe tbody tr th {\n",
       "        vertical-align: top;\n",
       "    }\n",
       "\n",
       "    .dataframe thead th {\n",
       "        text-align: right;\n",
       "    }\n",
       "</style>\n",
       "<table border=\"1\" class=\"dataframe\">\n",
       "  <thead>\n",
       "    <tr style=\"text-align: right;\">\n",
       "      <th></th>\n",
       "      <th>County</th>\n",
       "      <th>market_share</th>\n",
       "    </tr>\n",
       "  </thead>\n",
       "  <tbody>\n",
       "    <tr>\n",
       "      <th>0</th>\n",
       "      <td>Acadia</td>\n",
       "      <td>0.259241</td>\n",
       "    </tr>\n",
       "    <tr>\n",
       "      <th>1</th>\n",
       "      <td>Ada</td>\n",
       "      <td>0.147682</td>\n",
       "    </tr>\n",
       "    <tr>\n",
       "      <th>2</th>\n",
       "      <td>Adair</td>\n",
       "      <td>0.190571</td>\n",
       "    </tr>\n",
       "    <tr>\n",
       "      <th>3</th>\n",
       "      <td>Adams</td>\n",
       "      <td>0.167656</td>\n",
       "    </tr>\n",
       "    <tr>\n",
       "      <th>4</th>\n",
       "      <td>Aitkin</td>\n",
       "      <td>0.185230</td>\n",
       "    </tr>\n",
       "    <tr>\n",
       "      <th>...</th>\n",
       "      <td>...</td>\n",
       "      <td>...</td>\n",
       "    </tr>\n",
       "    <tr>\n",
       "      <th>989</th>\n",
       "      <td>Yellowstone</td>\n",
       "      <td>0.398339</td>\n",
       "    </tr>\n",
       "    <tr>\n",
       "      <th>990</th>\n",
       "      <td>Yolo</td>\n",
       "      <td>0.164689</td>\n",
       "    </tr>\n",
       "    <tr>\n",
       "      <th>991</th>\n",
       "      <td>York</td>\n",
       "      <td>0.232482</td>\n",
       "    </tr>\n",
       "    <tr>\n",
       "      <th>992</th>\n",
       "      <td>Yuba</td>\n",
       "      <td>0.504640</td>\n",
       "    </tr>\n",
       "    <tr>\n",
       "      <th>993</th>\n",
       "      <td>Yuma</td>\n",
       "      <td>1.000000</td>\n",
       "    </tr>\n",
       "  </tbody>\n",
       "</table>\n",
       "<p>994 rows × 2 columns</p>\n",
       "</div>"
      ],
      "text/plain": [
       "          County  market_share\n",
       "0         Acadia      0.259241\n",
       "1            Ada      0.147682\n",
       "2          Adair      0.190571\n",
       "3          Adams      0.167656\n",
       "4         Aitkin      0.185230\n",
       "..           ...           ...\n",
       "989  Yellowstone      0.398339\n",
       "990         Yolo      0.164689\n",
       "991         York      0.232482\n",
       "992         Yuba      0.504640\n",
       "993         Yuma      1.000000\n",
       "\n",
       "[994 rows x 2 columns]"
      ]
     },
     "execution_count": 618,
     "metadata": {},
     "output_type": "execute_result"
    }
   ],
   "source": [
    "temp"
   ]
  },
  {
   "cell_type": "code",
   "execution_count": 617,
   "id": "107b9f28",
   "metadata": {},
   "outputs": [
    {
     "data": {
      "text/plain": [
       "<AxesSubplot:xlabel='County', ylabel='market_share'>"
      ]
     },
     "execution_count": 617,
     "metadata": {},
     "output_type": "execute_result"
    },
    {
     "data": {
      "image/png": "[encoded data removed]",
      "text/plain": [
       "<Figure size 432x288 with 1 Axes>"
      ]
     },
     "metadata": {
      "needs_background": "light"
     },
     "output_type": "display_data"
    }
   ],
   "source": [
    "sns.barplot(data = temp, x = 'County', y = 'market_share')"
   ]
  },
  {
   "cell_type": "code",
   "execution_count": 623,
   "id": "7ae40758",
   "metadata": {},
   "outputs": [],
   "source": [
    "#iv\n",
    "org_county = df_merge_new3.groupby(['Organization Name', 'County'])['Enrollment'].sum().reset_index().rename(columns = {'Enrollment': 'org_county_summed_en'})\n",
    "df_merge_new3 = df_merge_new3.merge(org_county, on = ['Organization Name', 'County'])\n",
    "df_merge_new3['org_county_summed_en'] = df_merge_new3['org_county_summed_en'].apply(lambda x: x**2)"
   ]
  },
  {
   "cell_type": "code",
   "execution_count": 629,
   "id": "cc98f83d",
   "metadata": {},
   "outputs": [],
   "source": [
    "three_v_to_plot = df_merge_new3.groupby(['County','Organization Name'])['org_county_summed_en'].sum().reset_index()"
   ]
  },
  {
   "cell_type": "code",
   "execution_count": 631,
   "id": "6b549626",
   "metadata": {},
   "outputs": [],
   "source": [
    "three_v_to_plot['county_org'] = three_v_to_plot['County'] + three_v_to_plot['Organization Name']"
   ]
  },
  {
   "cell_type": "code",
   "execution_count": 632,
   "id": "b1cce9cb",
   "metadata": {},
   "outputs": [
    {
     "data": {
      "text/html": [
       "<div>\n",
       "<style scoped>\n",
       "    .dataframe tbody tr th:only-of-type {\n",
       "        vertical-align: middle;\n",
       "    }\n",
       "\n",
       "    .dataframe tbody tr th {\n",
       "        vertical-align: top;\n",
       "    }\n",
       "\n",
       "    .dataframe thead th {\n",
       "        text-align: right;\n",
       "    }\n",
       "</style>\n",
       "<table border=\"1\" class=\"dataframe\">\n",
       "  <thead>\n",
       "    <tr style=\"text-align: right;\">\n",
       "      <th></th>\n",
       "      <th>County</th>\n",
       "      <th>Organization Name</th>\n",
       "      <th>org_county_summed_en</th>\n",
       "      <th>county_org</th>\n",
       "    </tr>\n",
       "  </thead>\n",
       "  <tbody>\n",
       "    <tr>\n",
       "      <th>0</th>\n",
       "      <td>Acadia</td>\n",
       "      <td>HMO Louisiana</td>\n",
       "      <td>14161</td>\n",
       "      <td>AcadiaHMO Louisiana</td>\n",
       "    </tr>\n",
       "    <tr>\n",
       "      <th>1</th>\n",
       "      <td>Acadia</td>\n",
       "      <td>Humana Health Benefit Plan of Louisiana, Inc.</td>\n",
       "      <td>272484</td>\n",
       "      <td>AcadiaHumana Health Benefit Plan of Louisiana,...</td>\n",
       "    </tr>\n",
       "    <tr>\n",
       "      <th>2</th>\n",
       "      <td>Acadia</td>\n",
       "      <td>Humana Insurance Company</td>\n",
       "      <td>95922</td>\n",
       "      <td>AcadiaHumana Insurance Company</td>\n",
       "    </tr>\n",
       "    <tr>\n",
       "      <th>3</th>\n",
       "      <td>Acadia</td>\n",
       "      <td>Peoples Health</td>\n",
       "      <td>3364</td>\n",
       "      <td>AcadiaPeoples Health</td>\n",
       "    </tr>\n",
       "    <tr>\n",
       "      <th>4</th>\n",
       "      <td>Acadia</td>\n",
       "      <td>Vantage Health Plan, Inc.</td>\n",
       "      <td>5184</td>\n",
       "      <td>AcadiaVantage Health Plan, Inc.</td>\n",
       "    </tr>\n",
       "    <tr>\n",
       "      <th>...</th>\n",
       "      <td>...</td>\n",
       "      <td>...</td>\n",
       "      <td>...</td>\n",
       "      <td>...</td>\n",
       "    </tr>\n",
       "    <tr>\n",
       "      <th>4811</th>\n",
       "      <td>York</td>\n",
       "      <td>Harvard Pilgrim Health Care, Inc.</td>\n",
       "      <td>693842</td>\n",
       "      <td>YorkHarvard Pilgrim Health Care, Inc.</td>\n",
       "    </tr>\n",
       "    <tr>\n",
       "      <th>4812</th>\n",
       "      <td>York</td>\n",
       "      <td>Martin's Point Generations Advantage</td>\n",
       "      <td>74043072</td>\n",
       "      <td>YorkMartin's Point Generations Advantage</td>\n",
       "    </tr>\n",
       "    <tr>\n",
       "      <th>4813</th>\n",
       "      <td>York</td>\n",
       "      <td>UnitedHealthcare</td>\n",
       "      <td>49353408</td>\n",
       "      <td>YorkUnitedHealthcare</td>\n",
       "    </tr>\n",
       "    <tr>\n",
       "      <th>4814</th>\n",
       "      <td>Yuba</td>\n",
       "      <td>Kaiser Permanente</td>\n",
       "      <td>380192</td>\n",
       "      <td>YubaKaiser Permanente</td>\n",
       "    </tr>\n",
       "    <tr>\n",
       "      <th>4815</th>\n",
       "      <td>Yuma</td>\n",
       "      <td>Humana Insurance Company</td>\n",
       "      <td>416025</td>\n",
       "      <td>YumaHumana Insurance Company</td>\n",
       "    </tr>\n",
       "  </tbody>\n",
       "</table>\n",
       "<p>4816 rows × 4 columns</p>\n",
       "</div>"
      ],
      "text/plain": [
       "      County                              Organization Name  \\\n",
       "0     Acadia                                  HMO Louisiana   \n",
       "1     Acadia  Humana Health Benefit Plan of Louisiana, Inc.   \n",
       "2     Acadia                       Humana Insurance Company   \n",
       "3     Acadia                                 Peoples Health   \n",
       "4     Acadia                      Vantage Health Plan, Inc.   \n",
       "...      ...                                            ...   \n",
       "4811    York              Harvard Pilgrim Health Care, Inc.   \n",
       "4812    York           Martin's Point Generations Advantage   \n",
       "4813    York                               UnitedHealthcare   \n",
       "4814    Yuba                              Kaiser Permanente   \n",
       "4815    Yuma                       Humana Insurance Company   \n",
       "\n",
       "      org_county_summed_en                                         county_org  \n",
       "0                    14161                                AcadiaHMO Louisiana  \n",
       "1                   272484  AcadiaHumana Health Benefit Plan of Louisiana,...  \n",
       "2                    95922                     AcadiaHumana Insurance Company  \n",
       "3                     3364                               AcadiaPeoples Health  \n",
       "4                     5184                    AcadiaVantage Health Plan, Inc.  \n",
       "...                    ...                                                ...  \n",
       "4811                693842              YorkHarvard Pilgrim Health Care, Inc.  \n",
       "4812              74043072           YorkMartin's Point Generations Advantage  \n",
       "4813              49353408                               YorkUnitedHealthcare  \n",
       "4814                380192                              YubaKaiser Permanente  \n",
       "4815                416025                       YumaHumana Insurance Company  \n",
       "\n",
       "[4816 rows x 4 columns]"
      ]
     },
     "execution_count": 632,
     "metadata": {},
     "output_type": "execute_result"
    }
   ],
   "source": [
    "three_v_to_plot"
   ]
  },
  {
   "cell_type": "code",
   "execution_count": 633,
   "id": "5407ce79",
   "metadata": {},
   "outputs": [
    {
     "data": {
      "text/plain": [
       "<AxesSubplot:xlabel='county_org', ylabel='org_county_summed_en'>"
      ]
     },
     "execution_count": 633,
     "metadata": {},
     "output_type": "execute_result"
    },
    {
     "data": {
      "image/png": "[encoded data removed]",
      "text/plain": [
       "<Figure size 432x288 with 1 Axes>"
      ]
     },
     "metadata": {
      "needs_background": "light"
     },
     "output_type": "display_data"
    }
   ],
   "source": [
    "sns.barplot(data = three_v_to_plot, x = 'county_org', y = 'org_county_summed_en')\n",
    "sns_plot.savefig(\"3v.png\")"
   ]
  },
  {
   "cell_type": "code",
   "execution_count": 634,
   "id": "3ea0c071",
   "metadata": {},
   "outputs": [
    {
     "data": {
      "text/html": [
       "<div>\n",
       "<style scoped>\n",
       "    .dataframe tbody tr th:only-of-type {\n",
       "        vertical-align: middle;\n",
       "    }\n",
       "\n",
       "    .dataframe tbody tr th {\n",
       "        vertical-align: top;\n",
       "    }\n",
       "\n",
       "    .dataframe thead th {\n",
       "        text-align: right;\n",
       "    }\n",
       "</style>\n",
       "<table border=\"1\" class=\"dataframe\">\n",
       "  <thead>\n",
       "    <tr style=\"text-align: right;\">\n",
       "      <th></th>\n",
       "      <th>County</th>\n",
       "      <th>Organization Name</th>\n",
       "      <th>org_county_summed_en</th>\n",
       "      <th>county_org</th>\n",
       "    </tr>\n",
       "  </thead>\n",
       "  <tbody>\n",
       "    <tr>\n",
       "      <th>0</th>\n",
       "      <td>Acadia</td>\n",
       "      <td>HMO Louisiana</td>\n",
       "      <td>14161</td>\n",
       "      <td>AcadiaHMO Louisiana</td>\n",
       "    </tr>\n",
       "    <tr>\n",
       "      <th>1</th>\n",
       "      <td>Acadia</td>\n",
       "      <td>Humana Health Benefit Plan of Louisiana, Inc.</td>\n",
       "      <td>272484</td>\n",
       "      <td>AcadiaHumana Health Benefit Plan of Louisiana,...</td>\n",
       "    </tr>\n",
       "    <tr>\n",
       "      <th>2</th>\n",
       "      <td>Acadia</td>\n",
       "      <td>Humana Insurance Company</td>\n",
       "      <td>95922</td>\n",
       "      <td>AcadiaHumana Insurance Company</td>\n",
       "    </tr>\n",
       "    <tr>\n",
       "      <th>3</th>\n",
       "      <td>Acadia</td>\n",
       "      <td>Peoples Health</td>\n",
       "      <td>3364</td>\n",
       "      <td>AcadiaPeoples Health</td>\n",
       "    </tr>\n",
       "    <tr>\n",
       "      <th>4</th>\n",
       "      <td>Acadia</td>\n",
       "      <td>Vantage Health Plan, Inc.</td>\n",
       "      <td>5184</td>\n",
       "      <td>AcadiaVantage Health Plan, Inc.</td>\n",
       "    </tr>\n",
       "    <tr>\n",
       "      <th>...</th>\n",
       "      <td>...</td>\n",
       "      <td>...</td>\n",
       "      <td>...</td>\n",
       "      <td>...</td>\n",
       "    </tr>\n",
       "    <tr>\n",
       "      <th>4811</th>\n",
       "      <td>York</td>\n",
       "      <td>Harvard Pilgrim Health Care, Inc.</td>\n",
       "      <td>693842</td>\n",
       "      <td>YorkHarvard Pilgrim Health Care, Inc.</td>\n",
       "    </tr>\n",
       "    <tr>\n",
       "      <th>4812</th>\n",
       "      <td>York</td>\n",
       "      <td>Martin's Point Generations Advantage</td>\n",
       "      <td>74043072</td>\n",
       "      <td>YorkMartin's Point Generations Advantage</td>\n",
       "    </tr>\n",
       "    <tr>\n",
       "      <th>4813</th>\n",
       "      <td>York</td>\n",
       "      <td>UnitedHealthcare</td>\n",
       "      <td>49353408</td>\n",
       "      <td>YorkUnitedHealthcare</td>\n",
       "    </tr>\n",
       "    <tr>\n",
       "      <th>4814</th>\n",
       "      <td>Yuba</td>\n",
       "      <td>Kaiser Permanente</td>\n",
       "      <td>380192</td>\n",
       "      <td>YubaKaiser Permanente</td>\n",
       "    </tr>\n",
       "    <tr>\n",
       "      <th>4815</th>\n",
       "      <td>Yuma</td>\n",
       "      <td>Humana Insurance Company</td>\n",
       "      <td>416025</td>\n",
       "      <td>YumaHumana Insurance Company</td>\n",
       "    </tr>\n",
       "  </tbody>\n",
       "</table>\n",
       "<p>4816 rows × 4 columns</p>\n",
       "</div>"
      ],
      "text/plain": [
       "      County                              Organization Name  \\\n",
       "0     Acadia                                  HMO Louisiana   \n",
       "1     Acadia  Humana Health Benefit Plan of Louisiana, Inc.   \n",
       "2     Acadia                       Humana Insurance Company   \n",
       "3     Acadia                                 Peoples Health   \n",
       "4     Acadia                      Vantage Health Plan, Inc.   \n",
       "...      ...                                            ...   \n",
       "4811    York              Harvard Pilgrim Health Care, Inc.   \n",
       "4812    York           Martin's Point Generations Advantage   \n",
       "4813    York                               UnitedHealthcare   \n",
       "4814    Yuba                              Kaiser Permanente   \n",
       "4815    Yuma                       Humana Insurance Company   \n",
       "\n",
       "      org_county_summed_en                                         county_org  \n",
       "0                    14161                                AcadiaHMO Louisiana  \n",
       "1                   272484  AcadiaHumana Health Benefit Plan of Louisiana,...  \n",
       "2                    95922                     AcadiaHumana Insurance Company  \n",
       "3                     3364                               AcadiaPeoples Health  \n",
       "4                     5184                    AcadiaVantage Health Plan, Inc.  \n",
       "...                    ...                                                ...  \n",
       "4811                693842              YorkHarvard Pilgrim Health Care, Inc.  \n",
       "4812              74043072           YorkMartin's Point Generations Advantage  \n",
       "4813              49353408                               YorkUnitedHealthcare  \n",
       "4814                380192                              YubaKaiser Permanente  \n",
       "4815                416025                       YumaHumana Insurance Company  \n",
       "\n",
       "[4816 rows x 4 columns]"
      ]
     },
     "execution_count": 634,
     "metadata": {},
     "output_type": "execute_result"
    }
   ],
   "source": [
    "# v\n",
    "three_v_to_plot"
   ]
  },
  {
   "cell_type": "code",
   "execution_count": 638,
   "id": "fd92f926",
   "metadata": {},
   "outputs": [],
   "source": [
    "total_premium_weighted = temp.merge(df_merge_new3, on ='County')\n",
    "total_premium_weighted['weighted_total_premium'] = total_premium_weighted['Total Premium'] * total_premium_weighted['Total Premium']"
   ]
  },
  {
   "cell_type": "code",
   "execution_count": 641,
   "id": "fdb3bb52",
   "metadata": {},
   "outputs": [],
   "source": [
    "total_premium_weighted = total_premium_weighted.merge(three_v_to_plot, on =['County','Organization Name'])"
   ]
  },
  {
   "cell_type": "code",
   "execution_count": 665,
   "id": "67aab0c5",
   "metadata": {},
   "outputs": [],
   "source": [
    "three_five = total_premium_weighted[['County','Organization Name','org_county_summed_en_y','weighted_total_premium']]"
   ]
  },
  {
   "cell_type": "code",
   "execution_count": 666,
   "id": "7718eab6",
   "metadata": {},
   "outputs": [],
   "source": [
    "three_five = three_five.sort_values(by = ['org_county_summed_en_y', 'County'], ascending = False)"
   ]
  },
  {
   "cell_type": "code",
   "execution_count": 668,
   "id": "03a021ff",
   "metadata": {},
   "outputs": [
    {
     "data": {
      "text/html": [
       "<div>\n",
       "<style scoped>\n",
       "    .dataframe tbody tr th:only-of-type {\n",
       "        vertical-align: middle;\n",
       "    }\n",
       "\n",
       "    .dataframe tbody tr th {\n",
       "        vertical-align: top;\n",
       "    }\n",
       "\n",
       "    .dataframe thead th {\n",
       "        text-align: right;\n",
       "    }\n",
       "</style>\n",
       "<table border=\"1\" class=\"dataframe\">\n",
       "  <thead>\n",
       "    <tr style=\"text-align: right;\">\n",
       "      <th></th>\n",
       "      <th>County</th>\n",
       "      <th>Organization Name</th>\n",
       "      <th>org_county_summed_en_y</th>\n",
       "      <th>weighted_total_premium</th>\n",
       "    </tr>\n",
       "  </thead>\n",
       "  <tbody>\n",
       "    <tr>\n",
       "      <th>5230</th>\n",
       "      <td>Jefferson</td>\n",
       "      <td>UnitedHealthcare</td>\n",
       "      <td>37948216704</td>\n",
       "      <td>2209.0</td>\n",
       "    </tr>\n",
       "    <tr>\n",
       "      <th>5231</th>\n",
       "      <td>Jefferson</td>\n",
       "      <td>UnitedHealthcare</td>\n",
       "      <td>37948216704</td>\n",
       "      <td>0.0</td>\n",
       "    </tr>\n",
       "    <tr>\n",
       "      <th>5232</th>\n",
       "      <td>Jefferson</td>\n",
       "      <td>UnitedHealthcare</td>\n",
       "      <td>37948216704</td>\n",
       "      <td>900.0</td>\n",
       "    </tr>\n",
       "    <tr>\n",
       "      <th>5233</th>\n",
       "      <td>Jefferson</td>\n",
       "      <td>UnitedHealthcare</td>\n",
       "      <td>37948216704</td>\n",
       "      <td>4900.0</td>\n",
       "    </tr>\n",
       "    <tr>\n",
       "      <th>5234</th>\n",
       "      <td>Jefferson</td>\n",
       "      <td>UnitedHealthcare</td>\n",
       "      <td>37948216704</td>\n",
       "      <td>0.0</td>\n",
       "    </tr>\n",
       "    <tr>\n",
       "      <th>...</th>\n",
       "      <td>...</td>\n",
       "      <td>...</td>\n",
       "      <td>...</td>\n",
       "      <td>...</td>\n",
       "    </tr>\n",
       "    <tr>\n",
       "      <th>214</th>\n",
       "      <td>Anderson</td>\n",
       "      <td>Gateway Health Medicare Assured</td>\n",
       "      <td>0</td>\n",
       "      <td>11449.0</td>\n",
       "    </tr>\n",
       "    <tr>\n",
       "      <th>215</th>\n",
       "      <td>Anderson</td>\n",
       "      <td>Gateway Health Medicare Assured</td>\n",
       "      <td>0</td>\n",
       "      <td>0.0</td>\n",
       "    </tr>\n",
       "    <tr>\n",
       "      <th>200</th>\n",
       "      <td>Alpine</td>\n",
       "      <td>UnitedHealthcare</td>\n",
       "      <td>0</td>\n",
       "      <td>3600.0</td>\n",
       "    </tr>\n",
       "    <tr>\n",
       "      <th>80</th>\n",
       "      <td>Aitkin</td>\n",
       "      <td>EssentiaCare</td>\n",
       "      <td>0</td>\n",
       "      <td>1681.0</td>\n",
       "    </tr>\n",
       "    <tr>\n",
       "      <th>81</th>\n",
       "      <td>Aitkin</td>\n",
       "      <td>EssentiaCare</td>\n",
       "      <td>0</td>\n",
       "      <td>13689.0</td>\n",
       "    </tr>\n",
       "  </tbody>\n",
       "</table>\n",
       "<p>12096 rows × 4 columns</p>\n",
       "</div>"
      ],
      "text/plain": [
       "         County                Organization Name  org_county_summed_en_y  \\\n",
       "5230  Jefferson                 UnitedHealthcare             37948216704   \n",
       "5231  Jefferson                 UnitedHealthcare             37948216704   \n",
       "5232  Jefferson                 UnitedHealthcare             37948216704   \n",
       "5233  Jefferson                 UnitedHealthcare             37948216704   \n",
       "5234  Jefferson                 UnitedHealthcare             37948216704   \n",
       "...         ...                              ...                     ...   \n",
       "214    Anderson  Gateway Health Medicare Assured                       0   \n",
       "215    Anderson  Gateway Health Medicare Assured                       0   \n",
       "200      Alpine                 UnitedHealthcare                       0   \n",
       "80       Aitkin                     EssentiaCare                       0   \n",
       "81       Aitkin                     EssentiaCare                       0   \n",
       "\n",
       "      weighted_total_premium  \n",
       "5230                  2209.0  \n",
       "5231                     0.0  \n",
       "5232                   900.0  \n",
       "5233                  4900.0  \n",
       "5234                     0.0  \n",
       "...                      ...  \n",
       "214                  11449.0  \n",
       "215                      0.0  \n",
       "200                   3600.0  \n",
       "80                    1681.0  \n",
       "81                   13689.0  \n",
       "\n",
       "[12096 rows x 4 columns]"
      ]
     },
     "execution_count": 668,
     "metadata": {},
     "output_type": "execute_result"
    }
   ],
   "source": [
    "three_five"
   ]
  },
  {
   "cell_type": "code",
   "execution_count": 667,
   "id": "0a5d15ed",
   "metadata": {},
   "outputs": [
    {
     "data": {
      "text/plain": [
       "83"
      ]
     },
     "execution_count": 667,
     "metadata": {},
     "output_type": "execute_result"
    }
   ],
   "source": [
    "# three_five\n",
    "((three_five.groupby('County')['org_county_summed_en_y'].max()/three_five.groupby('County')['org_county_summed_en_y'].sum())> 0.9).sum()"
   ]
  },
  {
   "cell_type": "code",
   "execution_count": 675,
   "id": "029d0374",
   "metadata": {
    "scrolled": true
   },
   "outputs": [
    {
     "data": {
      "text/plain": [
       "<AxesSubplot:xlabel='org_county_summed_en_y', ylabel='weighted_total_premium'>"
      ]
     },
     "execution_count": 675,
     "metadata": {},
     "output_type": "execute_result"
    },
    {
     "data": {
      "image/png": "[encoded data removed]",
      "text/plain": [
       "<Figure size 432x288 with 1 Axes>"
      ]
     },
     "metadata": {
      "needs_background": "light"
     },
     "output_type": "display_data"
    }
   ],
   "source": [
    "sns.scatterplot(data = three_five, x = 'org_county_summed_en_y', y= 'weighted_total_premium')"
   ]
  },
  {
   "cell_type": "code",
   "execution_count": null,
   "id": "373842e5",
   "metadata": {},
   "outputs": [],
   "source": []
  }
 ],
 "metadata": {
  "kernelspec": {
   "display_name": "Python 3 (ipykernel)",
   "language": "python",
   "name": "python3"
  },
  "language_info": {
   "codemirror_mode": {
    "name": "ipython",
    "version": 3
   },
   "file_extension": ".py",
   "mimetype": "text/x-python",
   "name": "python",
   "nbconvert_exporter": "python",
   "pygments_lexer": "ipython3",
   "version": "3.9.7"
  }
 },
 "nbformat": 4,
 "nbformat_minor": 5
}
